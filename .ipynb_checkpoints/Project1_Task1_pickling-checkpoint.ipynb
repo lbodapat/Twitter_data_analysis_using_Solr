{
 "cells": [
  {
   "cell_type": "markdown",
   "id": "634afa73",
   "metadata": {},
   "source": [
    "# CSE-535 Project 1 Task 1- Collection of Key words and Transforming into Pickle file"
   ]
  },
  {
   "cell_type": "code",
   "execution_count": 4,
   "id": "bc6a6bab",
   "metadata": {},
   "outputs": [
    {
     "name": "stdout",
     "output_type": "stream",
     "text": [
      "<class 'pandas.core.frame.DataFrame'>\n"
     ]
    },
    {
     "data": {
      "text/html": [
       "<div>\n",
       "<style scoped>\n",
       "    .dataframe tbody tr th:only-of-type {\n",
       "        vertical-align: middle;\n",
       "    }\n",
       "\n",
       "    .dataframe tbody tr th {\n",
       "        vertical-align: top;\n",
       "    }\n",
       "\n",
       "    .dataframe thead th {\n",
       "        text-align: right;\n",
       "    }\n",
       "</style>\n",
       "<table border=\"1\" class=\"dataframe\">\n",
       "  <thead>\n",
       "    <tr style=\"text-align: right;\">\n",
       "      <th></th>\n",
       "      <th>poi_name</th>\n",
       "      <th>poi_id</th>\n",
       "      <th>verified</th>\n",
       "      <th>country</th>\n",
       "      <th>id</th>\n",
       "      <th>replied_to_tweet_id</th>\n",
       "      <th>replied_to_user_id</th>\n",
       "      <th>reply_text</th>\n",
       "      <th>tweet_text</th>\n",
       "      <th>tweet_lang</th>\n",
       "      <th>text_en</th>\n",
       "      <th>hashtags</th>\n",
       "      <th>mentions</th>\n",
       "      <th>tweet_urls</th>\n",
       "      <th>tweet_emoticons</th>\n",
       "      <th>tweet_date</th>\n",
       "      <th>geolocation</th>\n",
       "    </tr>\n",
       "  </thead>\n",
       "  <tbody>\n",
       "    <tr>\n",
       "      <th>0</th>\n",
       "      <td>KTRTRS</td>\n",
       "      <td>118787224</td>\n",
       "      <td>True</td>\n",
       "      <td>USA</td>\n",
       "      <td>1438707008916504580</td>\n",
       "      <td>None</td>\n",
       "      <td>None</td>\n",
       "      <td>[]</td>\n",
       "      <td>RT @krishanKTRS: In just 7 years there is a re...</td>\n",
       "      <td>en</td>\n",
       "      <td>: In just years there is a remarkable changeOv...</td>\n",
       "      <td>[]</td>\n",
       "      <td>[krishanKTRS]</td>\n",
       "      <td>[]</td>\n",
       "      <td>[]</td>\n",
       "      <td></td>\n",
       "      <td>None</td>\n",
       "    </tr>\n",
       "  </tbody>\n",
       "</table>\n",
       "</div>"
      ],
      "text/plain": [
       "  poi_name     poi_id  verified country                   id  \\\n",
       "0   KTRTRS  118787224      True     USA  1438707008916504580   \n",
       "\n",
       "  replied_to_tweet_id replied_to_user_id reply_text  \\\n",
       "0                None               None         []   \n",
       "\n",
       "                                          tweet_text tweet_lang  \\\n",
       "0  RT @krishanKTRS: In just 7 years there is a re...         en   \n",
       "\n",
       "                                             text_en hashtags       mentions  \\\n",
       "0  : In just years there is a remarkable changeOv...       []  [krishanKTRS]   \n",
       "\n",
       "  tweet_urls tweet_emoticons tweet_date geolocation  \n",
       "0         []              []                   None  "
      ]
     },
     "metadata": {},
     "output_type": "display_data"
    }
   ],
   "source": [
    "import pickle\n",
    "\n",
    "#Pickling Covid-19 related keywords\n",
    "\n",
    "projectOneKeyWords={\n",
    " \"covid\":[\"Coronavirus\",\"COVID-19\",\"SARS-CoV-2\",\"Novel coronavirus\", \"Nuevo coronavirus\",\"नॉवल कोरोनावाइरस\",\"Social distancing\",\"Distanciamiento social\",\"सोशल डिस्टन्सिंग\",\"PPE\",\"Asymptomatic\",\"Asintomático\",\"स्पर्शोन्मुख\",\"Presymptomatic\",\"Presintomático\", \"रोगसूचक\",\"Epidemic\", \"Epidemia\",\"महामारी\",\"Pandemic\",\"Pandemia\",\"वैश्विक महामार\",\"Flattening the curve\",\"Herd immunity\", \"la inmunidad de grupo\",\"झुंड उन्मुक्ति\",\"Hydroxychloroquine\",\"Remdesivir\",\"Immunosuppressed\",\"Inmunosuprimido\",\"Lockdown\",\"Cierre de emergencia\",\"लॉकडाउन\",\"National emergency\", \"Emergencia nacional\", \"राष्ट्रीय आपातकाल\",\"Super-spreader\", \"Super esparcidor\",\"Ventilator\",\"Ventilador\",\"Work from home\", \"Trabajar desde casa\",\"घर से काम\",\"CDC\",\"Self-quarantine\", \"Autocuarentena\",\"स्वयं संगरोध\",\"Self-isolation\", \"Autoaislamiento\",\"स्वयं चुना एकांत\",\"Antibody\",\"Anticuerpo\", \"एंटीबॉडी\",\"Surgical mask\",\"Máscara quirúrgica\",\"शल्यचिकित्सा संबंधी नकाब\",\"N-95\", \"Pathogen\", \"Patógeno\", \"रोगज़नक़\",\"pneumonia\", \"neumonía\", \"निमोनिया\",\"Black fungus\",\"White fungus\",\"Delta Variant\",\"Symptoms\",\"Síntomas\", \"लक्षण\",\"Oxygen Cylinder\",\"Cilindro de oxígeno\",\"ऑक्सीजन सिलिंडर\",\"Patient zero\",\"Paciente cero\",\"रोगी शून्य\",\"RT–PCR test\"],\n",
    " \"vaccine\":[\"Vaccine\", \"Vacuna\", \"टीका\",\"Clinical trails\", \"Ensayos clínicos\",\"क्लिनिकल परीक्षण\",\"Jab\",\"Efficacy\", \"Eficacia\", \"प्रभाव\",\"Side effects\",\"Efectos secundarios\",\"दुष्प्रभाव\",\"Front line worker\",\"Trabajador de primera línea\",\"फ्रंट लाइन कार्यकर्ता\",\"Vaccine Myth\",\"Mito de la vacuna\",\"टीका मिथक\",\"Vaccine Safe\", \"Vacuna segura\", \"सुरक्षित टीका\",\"Pfizer-BioNTech\",\"Moderna\",\"Johnson & Johnson’s Janssen\",\"Covaxin\",\"Covishield\",\"Sputnik\",\"BIBP\", \"CanSino\",\"Astrazeneca\",\"First shot\",\"Primera vacuna\",\"पहली टीका\",\"Second shot\", \"दूसरा टीका\",\"Segunda vacuna\",\"First dose\",\"Primera dosis\",\"पहली खुराक\",\"Second dose\",\"Segunda dosis\",\"दूसरी खुराक\",\"mRNA Vaccine\",\"Viral Vector Vaccines\",\"Protein subunit vaccines\",\"Fully vaccinated\",\"Completamente vacunado\", \"पूर्ण टीकाकरण\",\"Booster shot\",\"Unvaccinated\", \"No vacunado\", \"टीकारहित\",\"Vaccine mandate\",\"Mandato de vacuna\", \"टीका जनादेश\",\"Vaccination card\",\"Tarjeta de vacunación\", \"टीकाकरण कार्ड\",\"Immunity\", \"Inmunidad\", \"रोग प्रतिरोधक क्षमता\",\"Placebo\", \"Potency\", \"Potencia\", \"शक्ति\",\"Adenovirus\",\"Antibodies\",\"Anticuerpos\",\"एंटीबॉडी\",\"Spike protein\",\"Vaccine passport\",\"V-safe\",\"Emergency use authorization\", \"Autorización de uso de emergencia\",\"आपातकालीन उपयोग प्राधिकरण\"]\n",
    "}\n",
    "\n",
    "# file=\"poi_1.pkl.pickle\"\n",
    "# fileObj=open(file,'wb')\n",
    "# pickle.dump(projectOneKeyWords,fileObj)\n",
    "# fileObj.close()\n",
    "\n",
    "file=\"crowdsourced_keywords.pickle\"\n",
    "fileObj=open(file,'rb')\n",
    "objs=pickle.load(fileObj)\n",
    "# print(objs==projectOneKeyWords)\n",
    "print(type(objs))\n",
    "# print(objs)\n",
    "display(objs)"
   ]
  },
  {
   "cell_type": "code",
   "execution_count": null,
   "id": "ce485834",
   "metadata": {},
   "outputs": [],
   "source": []
  },
  {
   "cell_type": "code",
   "execution_count": null,
   "id": "fe19e725",
   "metadata": {},
   "outputs": [],
   "source": []
  },
  {
   "cell_type": "code",
   "execution_count": null,
   "id": "f10fd827",
   "metadata": {},
   "outputs": [],
   "source": []
  },
  {
   "cell_type": "code",
   "execution_count": null,
   "id": "6e0ca42a",
   "metadata": {},
   "outputs": [],
   "source": []
  }
 ],
 "metadata": {
  "kernelspec": {
   "display_name": "Python 3",
   "language": "python",
   "name": "python3"
  },
  "language_info": {
   "codemirror_mode": {
    "name": "ipython",
    "version": 3
   },
   "file_extension": ".py",
   "mimetype": "text/x-python",
   "name": "python",
   "nbconvert_exporter": "python",
   "pygments_lexer": "ipython3",
   "version": "3.8.8"
  }
 },
 "nbformat": 4,
 "nbformat_minor": 5
}
